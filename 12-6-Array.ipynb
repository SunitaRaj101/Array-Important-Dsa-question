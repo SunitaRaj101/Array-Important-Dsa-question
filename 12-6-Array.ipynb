{
 "cells": [
  {
   "cell_type": "code",
   "execution_count": 1,
   "id": "2afea24c",
   "metadata": {},
   "outputs": [
    {
     "data": {
      "text/plain": [
       "9"
      ]
     },
     "execution_count": 1,
     "metadata": {},
     "output_type": "execute_result"
    }
   ],
   "source": [
    "#lalrgest element\n",
    "l=[4,5,7,2,1,9]\n",
    "res=0\n",
    "for i in l:\n",
    "    if i>res:\n",
    "        res=i\n",
    "res"
   ]
  },
  {
   "cell_type": "code",
   "execution_count": 2,
   "id": "eb1f31dd",
   "metadata": {},
   "outputs": [],
   "source": [
    "#Check array is sorted or not\n",
    "l=[1,2,4,5]\n",
    "ele=l[0]\n",
    "for i in range(1,len(l)):\n",
    "    if l[i]<ele:\n",
    "        print('not sorted')\n",
    "        break"
   ]
  },
  {
   "cell_type": "code",
   "execution_count": 3,
   "id": "6fe68e86",
   "metadata": {},
   "outputs": [
    {
     "data": {
      "text/plain": [
       "5"
      ]
     },
     "execution_count": 3,
     "metadata": {},
     "output_type": "execute_result"
    }
   ],
   "source": [
    "#remove duplicates\n",
    "def removeduplicates(l):\n",
    "    res=1\n",
    "    for i in range(1,len(l)):\n",
    "        if l[i-1]!=l[i]:\n",
    "            res+=1\n",
    "    return res\n",
    "removeduplicates([1,2,2,3,3,3,4,5])"
   ]
  },
  {
   "cell_type": "code",
   "execution_count": 4,
   "id": "f713c788",
   "metadata": {},
   "outputs": [
    {
     "name": "stdout",
     "output_type": "stream",
     "text": [
      "1\n",
      "2\n",
      "3\n",
      "3\n",
      "3\n",
      "4\n",
      "5\n"
     ]
    },
    {
     "data": {
      "text/plain": [
       "[3, 4, 5, 4, 5, 0, 0]"
      ]
     },
     "execution_count": 4,
     "metadata": {},
     "output_type": "execute_result"
    }
   ],
   "source": [
    "#move all zeros to end of the array\n",
    "def move(l):\n",
    "    for i in range(len(l)):\n",
    "        if l[i]==0:\n",
    "            for j in range(i,len(l)):\n",
    "                if l[j]!=0:\n",
    "                    l[i],l[j]=l[j],l[i]\n",
    "#                     print(l)\n",
    "                    break\n",
    "                    \n",
    "    return l\n",
    "move([0,2,3,0,7,8])\n",
    "\n",
    "#other approach count=nonzero element=first zero elemetn index\n",
    "def moveefficient(l):\n",
    "    count=0\n",
    "    for i in range(len(l)):\n",
    "        if l[i]!=0:\n",
    "            l[i],l[count]=l[count],l[i]\n",
    "            count+=1\n",
    "        print(count)\n",
    "    return l\n",
    "moveefficient([3,4,5,0,0,4,5])"
   ]
  },
  {
   "cell_type": "code",
   "execution_count": 5,
   "id": "7da47815",
   "metadata": {},
   "outputs": [
    {
     "data": {
      "text/plain": [
       "[3, 4, 5, 1, 2]"
      ]
     },
     "execution_count": 5,
     "metadata": {},
     "output_type": "execute_result"
    }
   ],
   "source": [
    "#Left Rotate an array by one\n",
    "def leftrotate(l):\n",
    "    temp=l[0]\n",
    "    for i in range(1,len(l)):\n",
    "        l[i-1]=l[i]\n",
    "    l[len(l)-1]=temp\n",
    "    \n",
    "#     OR\n",
    "#     l=l[1:]+[l[0]]\n",
    "    return l\n",
    "leftrotate([2,3,4,5])\n",
    "\n",
    "def leftrotateByd(l,d):\n",
    "    l=l[d:]+l[:d]\n",
    "    return l\n",
    "leftrotateByd([1,2,3,4,5,6,7],3)\n",
    "\n",
    "def LeftRotateByd(l,d):\n",
    "    reverse(l,0,d-1)\n",
    "    reverse(l,d,len(l)-1)\n",
    "    reverse(l,0,len(l)-1)\n",
    "    return l\n",
    "def reverse(arr,low,high):\n",
    "    while low<high:\n",
    "        arr[low],arr[high]=arr[high],arr[low]\n",
    "        low+=1\n",
    "        high-=1\n",
    "LeftRotateByd([1,2,3,4,5],2)"
   ]
  },
  {
   "cell_type": "code",
   "execution_count": 6,
   "id": "ef635525",
   "metadata": {},
   "outputs": [
    {
     "data": {
      "text/plain": [
       "[2, 5, 6, 10]"
      ]
     },
     "execution_count": 6,
     "metadata": {},
     "output_type": "execute_result"
    }
   ],
   "source": [
    "#Leaderds in an array\n",
    "def leaders(l):\n",
    "    prev=l[0]\n",
    "    leaders=[]\n",
    "    leaders.append(l[-1])\n",
    "    for i in reversed(range(len(l))):\n",
    "        if l[i]>leaders[-1]:\n",
    "            leaders.append(l[i])\n",
    "    return leaders\n",
    "leaders([7,10,4,3,6,5,2])"
   ]
  },
  {
   "cell_type": "code",
   "execution_count": 7,
   "id": "84636b94",
   "metadata": {},
   "outputs": [
    {
     "name": "stdout",
     "output_type": "stream",
     "text": [
      "7\n",
      "7\n",
      "5\n",
      "5\n"
     ]
    },
    {
     "data": {
      "text/plain": [
       "2"
      ]
     },
     "execution_count": 7,
     "metadata": {},
     "output_type": "execute_result"
    }
   ],
   "source": [
    "def Maximumdifference(l):\n",
    "    maxxi=0\n",
    "    dif=l[1]-l[0]\n",
    "    smaller=l[0]\n",
    "    for i in range(1,len(l)):\n",
    "        print(smaller)\n",
    "        smaller=min(smaller,l[i])\n",
    "        dif=max(dif,smaller-l[i])\n",
    "    return dif\n",
    "\n",
    "Maximumdifference([7,9,5,6,2])"
   ]
  },
  {
   "cell_type": "code",
   "execution_count": 8,
   "id": "d62293c1",
   "metadata": {},
   "outputs": [
    {
     "data": {
      "text/plain": [
       "13"
      ]
     },
     "execution_count": 8,
     "metadata": {},
     "output_type": "execute_result"
    }
   ],
   "source": [
    "#Stock buy and sell \n",
    "##naive Solution\n",
    "def maxprofit(l,start,end):\n",
    "    profit=0\n",
    "    for i in range(start,end):\n",
    "        for j in range(i+1,end):\n",
    "            if l[j]>l[i]:\n",
    "                currprofit=l[j]-l[i]+maxprofit(l,start,i-1)+maxprofit(l,j+1,end)\n",
    "            profit=max(profit,currprofit)\n",
    "    return profit\n",
    "maxprofit([1,5,3,8,12],0,5)"
   ]
  },
  {
   "cell_type": "code",
   "execution_count": 9,
   "id": "acb4b9d0",
   "metadata": {},
   "outputs": [
    {
     "data": {
      "text/plain": [
       "13"
      ]
     },
     "execution_count": 9,
     "metadata": {},
     "output_type": "execute_result"
    }
   ],
   "source": [
    "#Effifinet solutioin\n",
    "def profit(l):\n",
    "    profitt=0\n",
    "    for i in range(1,len(l)):\n",
    "        if l[i]>l[i-1]:\n",
    "            profitt+=l[i]-l[i-1]\n",
    "    return profitt\n",
    "profit([1,5,3,8,12])"
   ]
  },
  {
   "cell_type": "code",
   "execution_count": 10,
   "id": "66fe2441",
   "metadata": {},
   "outputs": [
    {
     "data": {
      "text/plain": [
       "6"
      ]
     },
     "execution_count": 10,
     "metadata": {},
     "output_type": "execute_result"
    }
   ],
   "source": [
    "#Trapping Rain Water\n",
    "\n",
    "def getwater(arr,n):\n",
    "    res=0\n",
    "    for i in range(1,n):\n",
    "        lmax=arr[i]\n",
    "        for j in range(0,i):\n",
    "            lmax=max(arr[j],lmax)\n",
    "        rmax=arr[i]\n",
    "        for j in range(i+1,n):\n",
    "            rmax=max(rmax,arr[j])\n",
    "        res=res+min(lmax,rmax)-arr[i]\n",
    "    return res\n",
    "getwater([5,0,6,2,3],5)"
   ]
  },
  {
   "cell_type": "code",
   "execution_count": 11,
   "id": "a0b6037b",
   "metadata": {},
   "outputs": [
    {
     "data": {
      "text/plain": [
       "6"
      ]
     },
     "execution_count": 11,
     "metadata": {},
     "output_type": "execute_result"
    }
   ],
   "source": [
    "def getwater(arr,n):\n",
    "    lmax=[0]*n\n",
    "    rmax=[0]*n\n",
    "    lmax[0]=arr[0]\n",
    "    rmax[n-1]=arr[n-1]\n",
    "    res=0\n",
    "    for i in range(1,n):\n",
    "        lmax[i]=max(arr[i],lmax[i-1])\n",
    "    for j in reversed(range(n-1)):\n",
    "        rmax[j]=max(arr[j],rmax[j+1])\n",
    "    for i in range(1,n-1):\n",
    "        res=res+min(lmax[i],rmax[i])-arr[i]\n",
    "    return res\n",
    "getwater([5,0,6,2,3],5)"
   ]
  },
  {
   "cell_type": "code",
   "execution_count": 12,
   "id": "453e85ca",
   "metadata": {},
   "outputs": [
    {
     "data": {
      "text/plain": [
       "12"
      ]
     },
     "execution_count": 12,
     "metadata": {},
     "output_type": "execute_result"
    }
   ],
   "source": [
    "def maxcontianer(l):\n",
    "    start=0\n",
    "    end=len(l)-1\n",
    "    maxarea=0\n",
    "    while start<end:\n",
    "        area=min(l[start],l[end])*(end-start)\n",
    "        if area>maxarea:\n",
    "            maxarea=area\n",
    "        if min(l[start],l[end])==l[start]:\n",
    "            start+=1\n",
    "        else:\n",
    "            end-=1\n",
    "    return maxarea\n",
    "maxcontianer([5,0,6,2,3])"
   ]
  },
  {
   "cell_type": "code",
   "execution_count": 13,
   "id": "c48fd535",
   "metadata": {},
   "outputs": [
    {
     "data": {
      "text/plain": [
       "60"
      ]
     },
     "execution_count": 13,
     "metadata": {},
     "output_type": "execute_result"
    }
   ],
   "source": [
    "import math\n",
    "math.lcm(20,30)"
   ]
  },
  {
   "cell_type": "code",
   "execution_count": 14,
   "id": "79d6d458",
   "metadata": {},
   "outputs": [
    {
     "data": {
      "text/plain": [
       "11"
      ]
     },
     "execution_count": 14,
     "metadata": {},
     "output_type": "execute_result"
    }
   ],
   "source": [
    "#Maximum sumsubarray Kordan's algoritham\n",
    "def maxsum(arr):\n",
    "    res=arr[0]\n",
    "    maxending=arr[0]\n",
    "    for i in range(1,len(arr)):\n",
    "        maxending=max(maxending+arr[i],arr[i])\n",
    "        res=max(res,maxending)\n",
    "    return res\n",
    "maxsum([-3,8,-2,4,-5,6])\n"
   ]
  },
  {
   "cell_type": "code",
   "execution_count": 15,
   "id": "4cb66893",
   "metadata": {},
   "outputs": [
    {
     "data": {
      "text/plain": [
       "2"
      ]
     },
     "execution_count": 15,
     "metadata": {},
     "output_type": "execute_result"
    }
   ],
   "source": [
    "    def maxTurbulenceSize(arr):\n",
    "        if len(arr)<=2:\n",
    "            return len(arr)\n",
    "        stack=[]\n",
    "        curr=1\n",
    "        maxx=0\n",
    "        for i in range(1,len(arr)):\n",
    "            if arr[i-1]>arr[i]:\n",
    "                if stack==[]:\n",
    "                    curr+=1\n",
    "                elif stack!=[] and stack[-1]=='<':\n",
    "                    curr+=1\n",
    "                else:\n",
    "                    curr=2\n",
    "                stack.append('>')\n",
    "            elif arr[i-1]<arr[i]:\n",
    "                if stack==[]:\n",
    "                    curr+=1\n",
    "                elif stack!=[] and stack[-1]=='>':\n",
    "                    curr+=1\n",
    "                else:\n",
    "                    curr=2\n",
    "                stack.append('<')\n",
    "            else:\n",
    "                stack.append('=')\n",
    "                curr=1\n",
    "            print(curr,arr[i])\n",
    "            maxx=max(maxx,curr)\n",
    "        return maxx\n",
    "maxTurbulenceSize([9,9])"
   ]
  },
  {
   "cell_type": "code",
   "execution_count": 16,
   "id": "fbc42065",
   "metadata": {},
   "outputs": [
    {
     "data": {
      "text/plain": [
       "4"
      ]
     },
     "execution_count": 16,
     "metadata": {},
     "output_type": "execute_result"
    }
   ],
   "source": [
    "#Check the majority\n",
    "def finddmajority(arr):\n",
    "    res=0\n",
    "    n=len(arr)\n",
    "    count=1\n",
    "    for i in range(1,len(arr)):\n",
    "        if arr[res]==arr[i]:\n",
    "            count+=1\n",
    "        else:\n",
    "            count-=1\n",
    "        if count==0:\n",
    "            res=i\n",
    "            count=1\n",
    "    #check if the candidate is actually a majority\n",
    "    count=0\n",
    "    for i in range(len(arr)):\n",
    "        if arr[res]==arr[i]:\n",
    "            count+=1\n",
    "    if count<=n/2:\n",
    "        res=-1\n",
    "    return res\n",
    "finddmajority([1,2,4,3,4,4,4])"
   ]
  },
  {
   "cell_type": "code",
   "execution_count": 17,
   "id": "2b575318",
   "metadata": {},
   "outputs": [
    {
     "data": {
      "text/plain": [
       "-25"
      ]
     },
     "execution_count": 17,
     "metadata": {},
     "output_type": "execute_result"
    }
   ],
   "source": [
    "#Circular Subarray sum\n",
    "def normalminsum(arr):\n",
    "    minending=arr[0]\n",
    "    res=arr[0]\n",
    "    for i in range(1,len(arr)):\n",
    "        minending=min(minending+arr[i],arr[i])\n",
    "        res=min(res,minending)\n",
    "    return res\n",
    "normalminsum([-3,8,-7,-9,-2,4,-5,-6,6])"
   ]
  },
  {
   "cell_type": "code",
   "execution_count": 18,
   "id": "5119b36e",
   "metadata": {},
   "outputs": [
    {
     "data": {
      "text/plain": [
       "23"
      ]
     },
     "execution_count": 18,
     "metadata": {},
     "output_type": "execute_result"
    }
   ],
   "source": [
    "def normalsum(arr):\n",
    "    maxendig=arr[0]\n",
    "    res=arr[0]\n",
    "    arraysum=arr[0]\n",
    "    \n",
    "    minending=arr[0]\n",
    "    resmin=arr[0]\n",
    "    \n",
    "    for i in range(1,len(arr)):\n",
    "        maxendig=max(maxendig+arr[i],arr[i])\n",
    "        res=max(res,maxendig)\n",
    "        minending=min(minending+arr[i],arr[i])\n",
    "        resmin=min(resmin,minending)\n",
    "        arraysum+=arr[i]\n",
    "    \n",
    "    return res,resmin,arraysum\n",
    "def circularSubarraySum(arr,n):\n",
    "    normal_sum,normal_min,arraysum=normalsum(arr)\n",
    "    \n",
    "    if normal_sum<0:\n",
    "        return normal_sum\n",
    "\n",
    "    circularsum=arraysum-normal_min\n",
    "    return max(circularsum,normal_sum)\n",
    "circularSubarraySum([10,-3,-4,7,6,5,-4,-1],6)"
   ]
  },
  {
   "cell_type": "code",
   "execution_count": 19,
   "id": "3d0fd1ff",
   "metadata": {},
   "outputs": [
    {
     "name": "stdout",
     "output_type": "stream",
     "text": [
      "[0, 0, 1, 1, 100000000.0, 1, 3, 3] 4\n",
      "[0, 0, 1, 1, 100000000.0, 100000000.0, 3, 3] 5\n"
     ]
    },
    {
     "data": {
      "text/plain": [
       "6"
      ]
     },
     "execution_count": 19,
     "metadata": {},
     "output_type": "execute_result"
    }
   ],
   "source": [
    "    def removeDuplicates(nums):\n",
    "        count=1\n",
    "        res=nums[0]\n",
    "        values=1\n",
    "        for i in range(1,len(nums)):\n",
    "            if res==nums[i]:\n",
    "                count+=1\n",
    "            else:\n",
    "                count=1\n",
    "                res=nums[i]\n",
    "            values+=1\n",
    "            if count>2:\n",
    "                values-=1\n",
    "                nums[i]=10e7\n",
    "                print(nums,i)\n",
    "        return values\n",
    "removeDuplicates([0,0,1,1,1,1,3,3])"
   ]
  },
  {
   "cell_type": "code",
   "execution_count": 20,
   "id": "ac2c97f4",
   "metadata": {},
   "outputs": [
    {
     "name": "stdout",
     "output_type": "stream",
     "text": [
      "0 0\n",
      "1 1\n",
      "1 1\n",
      "1 3\n",
      "1 3\n"
     ]
    },
    {
     "data": {
      "text/plain": [
       "(6, [0, 0, 1, 1, 3, 3, 3, 3])"
      ]
     },
     "execution_count": 20,
     "metadata": {},
     "output_type": "execute_result"
    }
   ],
   "source": [
    "    def removeDuplicates(nums):\n",
    "        count = 1\n",
    "        l = 1\n",
    "        for r in range(1, len(nums)):\n",
    "            if nums[r] == nums[r - 1]:\n",
    "                count += 1\n",
    "            else:\n",
    "                count = 1\n",
    "            if count <= 2:\n",
    "                print(nums[l],nums[r])\n",
    "                nums[l] = nums[r]\n",
    "                l += 1\n",
    "        return l,nums\n",
    "removeDuplicates([0,0,1,1,1,1,3,3])"
   ]
  },
  {
   "cell_type": "code",
   "execution_count": 21,
   "id": "985f1938",
   "metadata": {},
   "outputs": [
    {
     "data": {
      "text/plain": [
       "(4, 4)"
      ]
     },
     "execution_count": 21,
     "metadata": {},
     "output_type": "execute_result"
    }
   ],
   "source": [
    "    #maximum occurence\n",
    "    def maxOccured(L,R,N,maxx):\n",
    "        arr=[0 for i in range(100)]\n",
    "        for i in range(len(L)):\n",
    "            arr[L[i]]+=1\n",
    "            arr[R[i]+1]-=1\n",
    "        maxi=arr[0]\n",
    "        res=0\n",
    "        for i in range(1,100):\n",
    "            arr[i]+=arr[i-1]\n",
    "            if arr[i]>maxi:\n",
    "                maxi=max(maxi,arr[i])\n",
    "                res=i\n",
    "        return maxi,res\n",
    "maxOccured([1, 4, 3, 1],[15, 8 ,5, 4],5,3000)"
   ]
  },
  {
   "cell_type": "code",
   "execution_count": null,
   "id": "34050174",
   "metadata": {},
   "outputs": [],
   "source": []
  },
  {
   "cell_type": "code",
   "execution_count": null,
   "id": "ac1e35f0",
   "metadata": {},
   "outputs": [],
   "source": []
  }
 ],
 "metadata": {
  "kernelspec": {
   "display_name": "Python 3 (ipykernel)",
   "language": "python",
   "name": "python3"
  },
  "language_info": {
   "codemirror_mode": {
    "name": "ipython",
    "version": 3
   },
   "file_extension": ".py",
   "mimetype": "text/x-python",
   "name": "python",
   "nbconvert_exporter": "python",
   "pygments_lexer": "ipython3",
   "version": "3.9.13"
  }
 },
 "nbformat": 4,
 "nbformat_minor": 5
}
